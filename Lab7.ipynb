{
  "nbformat": 4,
  "nbformat_minor": 0,
  "metadata": {
    "colab": {
      "provenance": [],
      "authorship_tag": "ABX9TyP1kpuB1FFth8ZmbuG/uh2x",
      "include_colab_link": true
    },
    "kernelspec": {
      "name": "python3",
      "display_name": "Python 3"
    },
    "language_info": {
      "name": "python"
    }
  },
  "cells": [
    {
      "cell_type": "markdown",
      "metadata": {
        "id": "view-in-github",
        "colab_type": "text"
      },
      "source": [
        "<a href=\"https://colab.research.google.com/github/jays-github2022/BSIS2-DV-LAB7-JAYSONB/blob/main/Lab7.ipynb\" target=\"_parent\"><img src=\"https://colab.research.google.com/assets/colab-badge.svg\" alt=\"Open In Colab\"/></a>"
      ]
    },
    {
      "cell_type": "code",
      "execution_count": 3,
      "metadata": {
        "colab": {
          "base_uri": "https://localhost:8080/"
        },
        "id": "Wp4XlaoJIfOM",
        "outputId": "9b255036-432e-4531-81da-4edca1f9afa1"
      },
      "outputs": [
        {
          "output_type": "stream",
          "name": "stdout",
          "text": [
            "[300, 700, 400, 200]\n"
          ]
        }
      ],
      "source": [
        "# Define a list \n",
        "z = [300, 700, 400, 200]\n",
        "print(z)"
      ]
    },
    {
      "cell_type": "code",
      "source": [
        "# Define a list\n",
        "heterogenousElements = [8, True, 'Jayson Binabese', 3.0]\n",
        "print(heterogenousElements)\n"
      ],
      "metadata": {
        "colab": {
          "base_uri": "https://localhost:8080/"
        },
        "id": "FsX076eyLFk2",
        "outputId": "f1abd740-0764-4021-ef43-7778287286e6"
      },
      "execution_count": 5,
      "outputs": [
        {
          "output_type": "stream",
          "name": "stdout",
          "text": [
            "[8, True, 'Jayson Binabese', 3.0]\n"
          ]
        }
      ]
    },
    {
      "cell_type": "code",
      "source": [
        "# Access the first item of a list at index 0 \n",
        "z [0]"
      ],
      "metadata": {
        "colab": {
          "base_uri": "https://localhost:8080/"
        },
        "id": "9m2LJGKzLyYG",
        "outputId": "de600490-8b95-4425-ac03-9c2f32fc93b9"
      },
      "execution_count": 6,
      "outputs": [
        {
          "output_type": "execute_result",
          "data": {
            "text/plain": [
              "300"
            ]
          },
          "metadata": {},
          "execution_count": 6
        }
      ]
    },
    {
      "cell_type": "code",
      "source": [
        "# Access last item in the list \n",
        "z [-1]"
      ],
      "metadata": {
        "colab": {
          "base_uri": "https://localhost:8080/"
        },
        "id": "q7HdIS_VL2jC",
        "outputId": "59aa0e5b-30e1-4f54-9966-1fd6f3a9fb77"
      },
      "execution_count": 7,
      "outputs": [
        {
          "output_type": "execute_result",
          "data": {
            "text/plain": [
              "200"
            ]
          },
          "metadata": {},
          "execution_count": 7
        }
      ]
    },
    {
      "cell_type": "code",
      "source": [
        "# First index is inclusive (before the :) and last (after the :) is not included \n",
        "print(z [0:2])\n"
      ],
      "metadata": {
        "colab": {
          "base_uri": "https://localhost:8080/"
        },
        "id": "EPHl-9NNL-I_",
        "outputId": "734de945-db04-4fe7-8e76-ccbd3eb90827"
      },
      "execution_count": 8,
      "outputs": [
        {
          "output_type": "stream",
          "name": "stdout",
          "text": [
            "[300, 700]\n"
          ]
        }
      ]
    },
    {
      "cell_type": "code",
      "source": [
        "# everything up to index 3 \n",
        "z [:3]\n"
      ],
      "metadata": {
        "colab": {
          "base_uri": "https://localhost:8080/"
        },
        "id": "K7rrvpbKMBYl",
        "outputId": "adb97d51-7573-427f-8551-0331d7ff043c"
      },
      "execution_count": 9,
      "outputs": [
        {
          "output_type": "execute_result",
          "data": {
            "text/plain": [
              "[300, 700, 400]"
            ]
          },
          "metadata": {},
          "execution_count": 9
        }
      ]
    },
    {
      "cell_type": "code",
      "source": [
        "# The code below returns a list with items from index 1 to the end of the list.\n",
        "\n",
        "# index 1 to end of list \n",
        "z [1:]\n"
      ],
      "metadata": {
        "colab": {
          "base_uri": "https://localhost:8080/"
        },
        "id": "c9LUJqEbMONH",
        "outputId": "31072c74-87d6-4ca7-ab5b-6643de05037e"
      },
      "execution_count": 10,
      "outputs": [
        {
          "output_type": "execute_result",
          "data": {
            "text/plain": [
              "[700, 400, 200]"
            ]
          },
          "metadata": {},
          "execution_count": 10
        }
      ]
    },
    {
      "cell_type": "code",
      "source": [
        "# Defining a list \n",
        "z = [4, 8, 5, 3]"
      ],
      "metadata": {
        "id": "wRsWjiCHM8b9"
      },
      "execution_count": 14,
      "outputs": []
    },
    {
      "cell_type": "code",
      "source": [
        "# Update the item at index 1 with the string \"fish\" \n",
        "z [1] = \"Jayson Binabese\"\n",
        "print(z)\n"
      ],
      "metadata": {
        "colab": {
          "base_uri": "https://localhost:8080/"
        },
        "id": "by5ETKrwNDAS",
        "outputId": "7e02d244-0ec9-4374-d287-f4eb51cede0d"
      },
      "execution_count": 16,
      "outputs": [
        {
          "output_type": "stream",
          "name": "stdout",
          "text": [
            "[4, 'Jayson Binabese', 5, 3]\n"
          ]
        }
      ]
    },
    {
      "cell_type": "markdown",
      "source": [
        "## **LIST METHODS**"
      ],
      "metadata": {
        "id": "qPRK-BRmNoZ6"
      }
    },
    {
      "cell_type": "code",
      "source": [
        "# Define a list\n",
        "z = [4, 1, 5, 4, 10, 4]\n",
        "# 0  1  2   3   4   5"
      ],
      "metadata": {
        "id": "e_8sX81bN7OG"
      },
      "execution_count": 23,
      "outputs": []
    },
    {
      "cell_type": "code",
      "source": [
        "# index method\n",
        "# The index method returns the first index at which a value occurs. In the code below, it will return 0\n",
        "z.index(4)"
      ],
      "metadata": {
        "colab": {
          "base_uri": "https://localhost:8080/"
        },
        "id": "2lQQNHgfOCZY",
        "outputId": "f5019111-a342-4597-f02e-3af762f15f90"
      },
      "execution_count": 24,
      "outputs": [
        {
          "output_type": "execute_result",
          "data": {
            "text/plain": [
              "0"
            ]
          },
          "metadata": {},
          "execution_count": 24
        }
      ]
    },
    {
      "cell_type": "code",
      "source": [
        "# index method\n",
        "z.index(1)"
      ],
      "metadata": {
        "colab": {
          "base_uri": "https://localhost:8080/"
        },
        "id": "MQZgmvMFOWKR",
        "outputId": "e0986393-d971-4195-fc84-3e103b10409f"
      },
      "execution_count": 25,
      "outputs": [
        {
          "output_type": "execute_result",
          "data": {
            "text/plain": [
              "1"
            ]
          },
          "metadata": {},
          "execution_count": 25
        }
      ]
    },
    {
      "cell_type": "code",
      "source": [
        "# index method\n",
        "z.index(5)"
      ],
      "metadata": {
        "colab": {
          "base_uri": "https://localhost:8080/"
        },
        "id": "7dIMbhNBOpe4",
        "outputId": "31f501c5-339a-41c0-9a44-212037420217"
      },
      "execution_count": 26,
      "outputs": [
        {
          "output_type": "execute_result",
          "data": {
            "text/plain": [
              "2"
            ]
          },
          "metadata": {},
          "execution_count": 26
        }
      ]
    },
    {
      "cell_type": "code",
      "source": [
        "# index method\n",
        "# [4, 1, 5, 4, 10, 4]\n",
        "#  0  1  2  3   4  5\n",
        "z.index(4, 2)"
      ],
      "metadata": {
        "colab": {
          "base_uri": "https://localhost:8080/"
        },
        "id": "XvpSoJrXOslx",
        "outputId": "3b25bd9d-aa78-4dbe-b7a6-77a0e12a49b1"
      },
      "execution_count": 27,
      "outputs": [
        {
          "output_type": "execute_result",
          "data": {
            "text/plain": [
              "3"
            ]
          },
          "metadata": {},
          "execution_count": 27
        }
      ]
    },
    {
      "cell_type": "code",
      "source": [
        "# count method\n",
        "random_list = [4, 1, 5, 4, 10, 4, 4, 4, 4] \n",
        "random_list.count(4)\n"
      ],
      "metadata": {
        "colab": {
          "base_uri": "https://localhost:8080/"
        },
        "id": "A425hcYUOwaG",
        "outputId": "952b48a0-e47c-49a7-a478-4b7bb59772ce"
      },
      "execution_count": 28,
      "outputs": [
        {
          "output_type": "execute_result",
          "data": {
            "text/plain": [
              "6"
            ]
          },
          "metadata": {},
          "execution_count": 28
        }
      ]
    },
    {
      "cell_type": "code",
      "source": [
        "# sort method\n",
        "z = [10, 9, 8, 7, 6, 5]\n",
        "z.sort()\n",
        "print(z)"
      ],
      "metadata": {
        "colab": {
          "base_uri": "https://localhost:8080/"
        },
        "id": "Fm5QbSC3Oy9w",
        "outputId": "1c9da9e5-cf9f-492d-f6c6-92dc9b4378b3"
      },
      "execution_count": 29,
      "outputs": [
        {
          "output_type": "stream",
          "name": "stdout",
          "text": [
            "[5, 6, 7, 8, 9, 10]\n"
          ]
        }
      ]
    },
    {
      "cell_type": "code",
      "source": [
        "# append method\n",
        "z = [7, 4, 3, 2]\n",
        "z.append(3) \n",
        "print(z)"
      ],
      "metadata": {
        "colab": {
          "base_uri": "https://localhost:8080/"
        },
        "id": "z6XB09r3O1Xm",
        "outputId": "c07e6f8d-fe5a-4921-be24-bb453205dc32"
      },
      "execution_count": 30,
      "outputs": [
        {
          "output_type": "stream",
          "name": "stdout",
          "text": [
            "[7, 4, 3, 2, 3]\n"
          ]
        }
      ]
    },
    {
      "cell_type": "code",
      "source": [
        "# remove method\n",
        "z = [7, 4, 3, 2, 3]\n",
        "z.remove(4)\n",
        "print(z)"
      ],
      "metadata": {
        "colab": {
          "base_uri": "https://localhost:8080/"
        },
        "id": "B8atLfWYO4Fx",
        "outputId": "9ebb8acc-9622-4c05-c3d6-d65086a063da"
      },
      "execution_count": 31,
      "outputs": [
        {
          "output_type": "stream",
          "name": "stdout",
          "text": [
            "[7, 3, 2, 3]\n"
          ]
        }
      ]
    },
    {
      "cell_type": "code",
      "source": [
        "# pop method\n",
        "z = [7, 4, 3, 3]\n",
        "print(z.pop(1)) \n",
        "print(z)\n"
      ],
      "metadata": {
        "colab": {
          "base_uri": "https://localhost:8080/"
        },
        "id": "TCVvkM-5PCWb",
        "outputId": "de3dc6e1-b3a6-4a68-810a-8f06b341146a"
      },
      "execution_count": 32,
      "outputs": [
        {
          "output_type": "stream",
          "name": "stdout",
          "text": [
            "4\n",
            "[7, 3, 3]\n"
          ]
        }
      ]
    },
    {
      "cell_type": "code",
      "source": [
        "# extend method\n",
        "z = [7, 3, 3]\n",
        "z.extend([4,5]) \n",
        "print(z)\n"
      ],
      "metadata": {
        "colab": {
          "base_uri": "https://localhost:8080/"
        },
        "id": "vowhDtHgPFqq",
        "outputId": "93b08e05-73f3-4b8f-cb57-56251fb6ddbe"
      },
      "execution_count": 33,
      "outputs": [
        {
          "output_type": "stream",
          "name": "stdout",
          "text": [
            "[7, 3, 3, 4, 5]\n"
          ]
        }
      ]
    },
    {
      "cell_type": "code",
      "source": [
        "# extend method\n",
        "# Alternatively, the same thing could be accomplished by using the + operator. \n",
        "print([1,2] + [3,4])"
      ],
      "metadata": {
        "colab": {
          "base_uri": "https://localhost:8080/"
        },
        "id": "j37qTUwAPIn0",
        "outputId": "b5f4ce95-f58d-4280-c942-cb0f9878c4c6"
      },
      "execution_count": 34,
      "outputs": [
        {
          "output_type": "stream",
          "name": "stdout",
          "text": [
            "[1, 2, 3, 4]\n"
          ]
        }
      ]
    },
    {
      "cell_type": "code",
      "source": [
        "# insert method\n",
        "z = [7, 3, 3, 4, 5]\n",
        "z.insert(4, [1, 2]) \n",
        "print(z)"
      ],
      "metadata": {
        "colab": {
          "base_uri": "https://localhost:8080/"
        },
        "id": "Xy5F35OvPOnT",
        "outputId": "5dcab689-b2d0-455d-e475-25edcab6aeee"
      },
      "execution_count": 35,
      "outputs": [
        {
          "output_type": "stream",
          "name": "stdout",
          "text": [
            "[7, 3, 3, 4, [1, 2], 5]\n"
          ]
        }
      ]
    },
    {
      "cell_type": "code",
      "source": [
        "# MORE ON NEGATIVE INDEXING\n",
        "languages = [\"Python\", \"Swift\", \"C++\"]\n",
        "\n",
        "# access item at index 2\n",
        "print(languages[2])   # Python\n",
        "\n",
        "# access item at index 0\n",
        "print(languages[-3])   # Python"
      ],
      "metadata": {
        "colab": {
          "base_uri": "https://localhost:8080/"
        },
        "id": "I0iKSMRsPTW8",
        "outputId": "dd314414-e5ba-49c9-df48-caed7d7b0576"
      },
      "execution_count": 36,
      "outputs": [
        {
          "output_type": "stream",
          "name": "stdout",
          "text": [
            "C++\n",
            "Python\n"
          ]
        }
      ]
    }
  ]
}